{
 "cells": [
  {
   "cell_type": "code",
   "execution_count": 1,
   "id": "b7075bd9-a94c-4611-9414-aaf8ed08df66",
   "metadata": {},
   "outputs": [],
   "source": [
    "#Basic if-else"
   ]
  },
  {
   "cell_type": "code",
   "execution_count": 2,
   "id": "a86c831d-4549-4e85-913e-f6f165df0d9b",
   "metadata": {},
   "outputs": [
    {
     "name": "stdout",
     "output_type": "stream",
     "text": [
      "Number is positive\n"
     ]
    }
   ],
   "source": [
    "#Que1 Write a Python program to check if a given number is positive or negative.\n",
    "n=10\n",
    "if(n<0):\n",
    "    print(\"Number is negative\")\n",
    "else:\n",
    "    print(\"Number is positive\")\n"
   ]
  },
  {
   "cell_type": "code",
   "execution_count": 3,
   "id": "165bad1d-afc7-42dd-84ac-7007c7928ac9",
   "metadata": {},
   "outputs": [
    {
     "name": "stdin",
     "output_type": "stream",
     "text": [
      "Enter age 19\n"
     ]
    },
    {
     "name": "stdout",
     "output_type": "stream",
     "text": [
      "Eligible to vote\n"
     ]
    }
   ],
   "source": [
    "#Que2 Create a program that determines if a person is eligible to vote based on their age\n",
    "age=int(input(\"Enter age\"))\n",
    "if age>=18:\n",
    "    print(\"Eligible to vote\")\n",
    "else:\n",
    "    print(\"Not Eligible to vote\")"
   ]
  },
  {
   "cell_type": "code",
   "execution_count": 4,
   "id": "623cbb9d-58c3-42ff-b4f5-17f7176ffa72",
   "metadata": {},
   "outputs": [
    {
     "name": "stdout",
     "output_type": "stream",
     "text": [
      "20 is largest\n"
     ]
    }
   ],
   "source": [
    "#Que3 Develop a program to find the maximum of two numbers using if-else statements.\n",
    "a,b=10,20\n",
    "if a>b:\n",
    "    print(f\"{a} is largest\")\n",
    "else:\n",
    "    print(f\"{b} is largest\")"
   ]
  },
  {
   "cell_type": "code",
   "execution_count": 5,
   "id": "0cabd693-f5c5-4527-803b-24cde65b2335",
   "metadata": {},
   "outputs": [
    {
     "name": "stdin",
     "output_type": "stream",
     "text": [
      "Enter a year:  2004\n"
     ]
    },
    {
     "name": "stdout",
     "output_type": "stream",
     "text": [
      "2004 is a leap year.\n"
     ]
    }
   ],
   "source": [
    "#Que4 Write a Python script to classify a given year as a leap year or not.\n",
    "year = int(input(\"Enter a year: \"))\n",
    "\n",
    "if (year % 4 == 0 and year % 100 != 0) or (year % 400 == 0):\n",
    "    print(f\"{year} is a leap year.\")\n",
    "else:\n",
    "    print(f\"{year} is not a leap year.\")\n"
   ]
  },
  {
   "cell_type": "code",
   "execution_count": 6,
   "id": "ccb1109f-8623-4aa2-ba87-187199e92982",
   "metadata": {},
   "outputs": [
    {
     "name": "stdin",
     "output_type": "stream",
     "text": [
      "Enter a character l\n"
     ]
    },
    {
     "name": "stdout",
     "output_type": "stream",
     "text": [
      "Consonat\n"
     ]
    }
   ],
   "source": [
    "#Que5 Create a program that checks whether a character is a vowel or a consonant.\n",
    "char=input(\"Enter a character\")\n",
    "vowel=['a','e','i','o','u']\n",
    "Flag=False\n",
    "for i in vowel:\n",
    "    if i==char:\n",
    "        Flag=True\n",
    "if Flag:\n",
    "    print(\"Vowel\")\n",
    "else:\n",
    "    print(\"Consonat\")"
   ]
  },
  {
   "cell_type": "code",
   "execution_count": 7,
   "id": "f760d318-a958-482b-b53e-2c5a5bb7a9c9",
   "metadata": {},
   "outputs": [
    {
     "name": "stdout",
     "output_type": "stream",
     "text": [
      "Even\n"
     ]
    }
   ],
   "source": [
    "#Que6 Implement a program to determine whether a given number is even or odd.\n",
    "num=10\n",
    "if num%2==0:\n",
    "    print(\"Even\")\n",
    "else:\n",
    "    print(\"Odd\")"
   ]
  },
  {
   "cell_type": "code",
   "execution_count": 8,
   "id": "60ce2e9b-d0ea-4a55-9955-388bf69038db",
   "metadata": {},
   "outputs": [
    {
     "name": "stdin",
     "output_type": "stream",
     "text": [
      "Enter a number:  12\n"
     ]
    },
    {
     "name": "stdout",
     "output_type": "stream",
     "text": [
      "The absolute value of 12.0 is 12.0.\n"
     ]
    }
   ],
   "source": [
    "#Que7 Write a Python function to calculate the absolute value of a number without using the `abs()` function\n",
    "def absolute_value(num):\n",
    "    if num >= 0:\n",
    "        return num\n",
    "    else:\n",
    "        return -num\n",
    "\n",
    "number = float(input(\"Enter a number: \"))\n",
    "result = absolute_value(number)\n",
    "print(f\"The absolute value of {number} is {result}.\")"
   ]
  },
  {
   "cell_type": "code",
   "execution_count": 9,
   "id": "f3ea0e39-b57f-4f7b-9e88-f1a304930d64",
   "metadata": {},
   "outputs": [
    {
     "name": "stdin",
     "output_type": "stream",
     "text": [
      "Enter first number:  1\n",
      "Enter second number:  2\n",
      "Enter third number:  3\n"
     ]
    },
    {
     "name": "stdout",
     "output_type": "stream",
     "text": [
      "The largest number is 3.0\n"
     ]
    }
   ],
   "source": [
    "#Que8 Develop a program that determines the largest of three given numbers using if-else statements.\n",
    "num1 = float(input(\"Enter first number: \"))\n",
    "num2 = float(input(\"Enter second number: \"))\n",
    "num3 = float(input(\"Enter third number: \"))\n",
    "if num1 >= num2 and num1 >= num3:\n",
    "    largest = num1\n",
    "elif num2 >= num1 and num2 >= num3:\n",
    "    largest = num2\n",
    "else:\n",
    "    largest = num3\n",
    "print(f\"The largest number is {largest}\")"
   ]
  },
  {
   "cell_type": "code",
   "execution_count": 10,
   "id": "c926ab51-f9c6-449f-b126-eddb04fbd586",
   "metadata": {},
   "outputs": [
    {
     "name": "stdin",
     "output_type": "stream",
     "text": [
      "Enter a string madam\n"
     ]
    },
    {
     "name": "stdout",
     "output_type": "stream",
     "text": [
      "String is palindrome\n"
     ]
    }
   ],
   "source": [
    "#Que9 Create a program that checks if a given string is a palindrome.\n",
    "str=input(\"Enter a string\")\n",
    "if str==str[::-1]:\n",
    "    print(\"String is palindrome\")\n",
    "else:\n",
    "    print(\"String is not palindrome\")\n"
   ]
  },
  {
   "cell_type": "code",
   "execution_count": 11,
   "id": "344ac07e-70b5-4db1-a8f2-f6b9b8165767",
   "metadata": {},
   "outputs": [
    {
     "name": "stdin",
     "output_type": "stream",
     "text": [
      "Enter the student's score:  7\n"
     ]
    },
    {
     "name": "stdout",
     "output_type": "stream",
     "text": [
      "The student's grade is: F\n"
     ]
    }
   ],
   "source": [
    "#Que10 Write a Python program to calculate the grade based on a student's score\n",
    "score = float(input(\"Enter the student's score: \"))\n",
    "if score >= 90:\n",
    "    grade = 'A'\n",
    "elif score >= 80:\n",
    "    grade = 'B'\n",
    "elif score >= 70:\n",
    "    grade = 'C'\n",
    "elif score >= 60:\n",
    "    grade = 'D'\n",
    "else:\n",
    "    grade = 'F'\n",
    "print(f\"The student's grade is: {grade}\")"
   ]
  },
  {
   "cell_type": "code",
   "execution_count": 12,
   "id": "a86612b0-1c35-4dd3-b221-33cb54641008",
   "metadata": {},
   "outputs": [],
   "source": [
    "# elif statemets"
   ]
  },
  {
   "cell_type": "code",
   "execution_count": 13,
   "id": "dd7729f4-7c6c-4fe9-bd83-5c2d0416c368",
   "metadata": {},
   "outputs": [
    {
     "name": "stdin",
     "output_type": "stream",
     "text": [
      "Enter the student's score:  67\n"
     ]
    },
    {
     "name": "stdout",
     "output_type": "stream",
     "text": [
      "The student's grade is: D\n"
     ]
    }
   ],
   "source": [
    "#Que21 Write a Python program to assign grades based on different ranges of scores using elif statements\n",
    "score = float(input(\"Enter the student's score: \"))\n",
    "if score >= 90:\n",
    "    grade = 'A'\n",
    "elif score >= 80:\n",
    "    grade = 'B'\n",
    "elif score >= 70:\n",
    "    grade = 'C'\n",
    "elif score >= 60:\n",
    "    grade = 'D'\n",
    "else:\n",
    "    grade = 'F'\n",
    "\n",
    "print(f\"The student's grade is: {grade}\")\n"
   ]
  },
  {
   "cell_type": "code",
   "execution_count": 16,
   "id": "ddc012bd-f05f-4c14-ae15-71080405b447",
   "metadata": {},
   "outputs": [
    {
     "name": "stdin",
     "output_type": "stream",
     "text": [
      "Enter the first angle of the triangle:  50\n",
      "Enter the second angle of the triangle:  50\n",
      "Enter the third angle of the triangle:  80\n"
     ]
    },
    {
     "name": "stdout",
     "output_type": "stream",
     "text": [
      "It is an isosceles triangle.\n"
     ]
    }
   ],
   "source": [
    "#Que22 implement a program to determine the type of a triangle based on its angles.\n",
    "angle1 = int(input(\"Enter the first angle of the triangle: \"))\n",
    "angle2 = int(input(\"Enter the second angle of the triangle: \"))\n",
    "angle3 = int(input(\"Enter the third angle of the triangle: \"))\n",
    "\n",
    "if angle1 + angle2 + angle3 == 180:\n",
    "    if angle1 == angle2 == angle3:\n",
    "        print(\"It is an equilateral triangle.\")\n",
    "    elif angle1 == angle2 or angle1 == angle3 or angle2 == angle3:\n",
    "        print(\"It is an isosceles triangle.\")\n",
    "    else:\n",
    "        print(\"It is a scalene triangle.\")\n",
    "else:\n",
    "    print(\"The angles entered do not form a triangle.\")\n"
   ]
  },
  {
   "cell_type": "code",
   "execution_count": 30,
   "id": "3021fc26-4a88-471d-9330-483f1394d291",
   "metadata": {},
   "outputs": [
    {
     "name": "stdin",
     "output_type": "stream",
     "text": [
      "Enter your weight in kilograms:  60\n",
      "Enter your height in meters:  1.78\n"
     ]
    },
    {
     "name": "stdout",
     "output_type": "stream",
     "text": [
      "Your BMI is 18.94, which falls into the category of Normal weight.\n"
     ]
    }
   ],
   "source": [
    "#Que23 Develop a program to categorize a given person's BMI into underweight, normal, overweight, or obese using \n",
    "weight = float(input(\"Enter your weight in kilograms: \"))\n",
    "height = float(input(\"Enter your height in meters: \"))\n",
    "bmi = weight / (height ** 2)\n",
    "if bmi < 18.5:\n",
    "    category = \"Underweight\"\n",
    "elif 18.5 <= bmi < 25:\n",
    "    category = \"Normal weight\"\n",
    "elif 25 <= bmi < 30:\n",
    "    category = \"Overweight\"\n",
    "else:\n",
    "    category = \"Obese\"\n",
    "print(f\"Your BMI is {bmi:.2f}, which falls into the category of {category}.\")\n"
   ]
  },
  {
   "cell_type": "code",
   "execution_count": 18,
   "id": "493a97c9-abf0-42dc-97d6-097b87ac0ab3",
   "metadata": {},
   "outputs": [
    {
     "name": "stdin",
     "output_type": "stream",
     "text": [
      "Enter a number:  2\n"
     ]
    },
    {
     "name": "stdout",
     "output_type": "stream",
     "text": [
      "The number is positive.\n"
     ]
    }
   ],
   "source": [
    "#Que24.Create a program that determines whether a given number is positive, negative, or zero using elif \n",
    "\n",
    "number = float(input(\"Enter a number: \"))\n",
    "if number > 0:\n",
    "    print(\"The number is positive.\")\n",
    "elif number < 0:\n",
    "    print(\"The number is negative.\")\n",
    "else:\n",
    "    print(\"The number is zero.\")\n"
   ]
  },
  {
   "cell_type": "code",
   "execution_count": 21,
   "id": "59caf76c-cbc8-4d98-9b86-98469de8b370",
   "metadata": {},
   "outputs": [
    {
     "name": "stdin",
     "output_type": "stream",
     "text": [
      "Enter a character @\n"
     ]
    },
    {
     "name": "stdout",
     "output_type": "stream",
     "text": [
      "special\n"
     ]
    }
   ],
   "source": [
    "#Que25  Write a Python script to determine the type of a character (uppercase, lowercase, or special) using elif \n",
    "char=input(\"Enter a character\")\n",
    "if char.isupper():\n",
    "    print(\"Uppercase\")\n",
    "    \n",
    "elif char.islower():\n",
    "    print(\"lowercase\")\n",
    "else:\n",
    "    print(\"special\")\n",
    "    "
   ]
  },
  {
   "cell_type": "code",
   "execution_count": 26,
   "id": "2c33484e-d3c2-4ec1-9d72-99da8656708f",
   "metadata": {},
   "outputs": [
    {
     "name": "stdin",
     "output_type": "stream",
     "text": [
      "Enter the first angle of the quadrilateral:  90\n",
      "Enter the second angle of the quadrilateral:  90\n",
      "Enter the third angle of the quadrilateral:  90\n",
      "Enter the fourth angle of the quadrilateral:  90\n",
      "Enter the length of side 1:  7\n",
      "Enter the length of side 2:  7\n",
      "Enter the length of side 3:  7\n",
      "Enter the length of side 4:  7\n"
     ]
    },
    {
     "name": "stdout",
     "output_type": "stream",
     "text": [
      "It is a square.\n"
     ]
    }
   ],
   "source": [
    "#Que28. Create a program to determine the type of quadrilateral based on its angles and sides using elif \n",
    "angle1 = int(input(\"Enter the first angle of the quadrilateral: \"))\n",
    "angle2 = int(input(\"Enter the second angle of the quadrilateral: \"))\n",
    "angle3 = int(input(\"Enter the third angle of the quadrilateral: \"))\n",
    "angle4 = int(input(\"Enter the fourth angle of the quadrilateral: \"))\n",
    "\n",
    "side1 = float(input(\"Enter the length of side 1: \"))\n",
    "side2 = float(input(\"Enter the length of side 2: \"))\n",
    "side3 = float(input(\"Enter the length of side 3: \"))\n",
    "side4 = float(input(\"Enter the length of side 4: \"))\n",
    "\n",
    "if angle1 == angle2 == angle3 == angle4 == 90:\n",
    "    if side1 == side2 == side3 == side4:\n",
    "        print(\"It is a square.\")\n",
    "    elif side1 == side3 and side2 == side4:\n",
    "        print(\"It is a rectangle.\")\n",
    "    else:\n",
    "        print(\"It is a quadrilateral with right angles.\")\n",
    "elif side1 == side2 == side3 == side4:\n",
    "    print(\"It is a rhombus.\")\n",
    "elif (angle1 + angle2 + angle3 + angle4) == 360:\n",
    "    print(\"It is a general quadrilateral.\")\n",
    "else:\n",
    "    print(\"It does not fit into a specific category.\")\n"
   ]
  },
  {
   "cell_type": "code",
   "execution_count": 28,
   "id": "f38619a5-3abd-4a41-8525-b1529e40ea73",
   "metadata": {},
   "outputs": [
    {
     "name": "stdin",
     "output_type": "stream",
     "text": [
      "Enter a month (1-12):  5\n"
     ]
    },
    {
     "name": "stdout",
     "output_type": "stream",
     "text": [
      "The season for month 5 is Spring.\n"
     ]
    }
   ],
   "source": [
    "#Que29 Write a Python script to determine the season based on a user-provided month using elif statements.\n",
    "\n",
    "\n",
    "month = int(input(\"Enter a month (1-12): \"))\n",
    "\n",
    "if month in [3, 4, 5]:\n",
    "    season = \"Spring\"\n",
    "elif month in [6, 7, 8]:\n",
    "    season = \"Summer\"\n",
    "elif month in [9, 10, 11]:\n",
    "    season = \"Autumn\"\n",
    "else:\n",
    "    season = \"Winter\"\n",
    "\n",
    "print(f\"The season for month {month} is {season}.\")\n"
   ]
  },
  {
   "cell_type": "code",
   "execution_count": 31,
   "id": "5e974433-0f1c-427d-b34a-ee08c4008e4b",
   "metadata": {},
   "outputs": [
    {
     "name": "stdin",
     "output_type": "stream",
     "text": [
      "Enter a year:  2004\n",
      "Enter a month (1-12):  7\n"
     ]
    },
    {
     "name": "stdout",
     "output_type": "stream",
     "text": [
      "2004 is a leap year.\n",
      "This month has 31 days.\n"
     ]
    }
   ],
   "source": [
    "#Que30 Implement a program to determine the type of a year (leap or common) and month (30 or 31 days) using \n",
    "#elif statements.\n",
    "\n",
    "year = int(input(\"Enter a year: \"))\n",
    "month = int(input(\"Enter a month (1-12): \"))\n",
    "\n",
    "if (year % 4 == 0 and year % 100 != 0) or (year % 400 == 0):\n",
    "    print(f\"{year} is a leap year.\")\n",
    "else:\n",
    "    print(f\"{year} is a common year.\")\n",
    "if month == 2:\n",
    "    if (year % 4 == 0 and year % 100 != 0) or (year % 400 == 0):\n",
    "        print(\"February has 29 days in a leap year.\")\n",
    "    else:\n",
    "        print(\"February has 28 days in a common year.\")\n",
    "elif month in [4, 6, 9, 11]:\n",
    "    print(\"This month has 30 days.\")\n",
    "else:\n",
    "    print(\"This month has 31 days.\")"
   ]
  },
  {
   "cell_type": "code",
   "execution_count": 32,
   "id": "05a8bfb1-b7a6-4efb-ae79-8ab88ef61908",
   "metadata": {},
   "outputs": [
    {
     "name": "stdin",
     "output_type": "stream",
     "text": [
      "Enter the units consumed:  5\n"
     ]
    },
    {
     "name": "stdout",
     "output_type": "stream",
     "text": [
      "The electricity bill for 5.0 units is: $17.50\n"
     ]
    }
   ],
   "source": [
    "#Que27 Develop a program to calculate the electricity bill based on different consumption slabs using elif \n",
    "units = float(input(\"Enter the units consumed: \"))\n",
    "\n",
    "bill = 0\n",
    "rate_slab1 = 3.50\n",
    "rate_slab2 = 4.50\n",
    "rate_slab3 = 6.50\n",
    "rate_slab4 = 8.50\n",
    "\n",
    "if units <= 50:\n",
    "    bill = units * rate_slab1\n",
    "elif units <= 150:\n",
    "    bill = 50 * rate_slab1 + (units - 50) * rate_slab2\n",
    "elif units <= 250:\n",
    "    bill = 50 * rate_slab1 + 100 * rate_slab2 + (units - 150) * rate_slab3\n",
    "else:\n",
    "    bill = 50 * rate_slab1 + 100 * rate_slab2 + 100 * rate_slab3 + (units - 250) * rate_slab4\n",
    "\n",
    "print(f\"The electricity bill for {units} units is: ${bill:.2f}\")\n"
   ]
  },
  {
   "cell_type": "code",
   "execution_count": 33,
   "id": "e4b57233-f98f-4690-bb4d-e9be47bcf099",
   "metadata": {},
   "outputs": [
    {
     "name": "stdin",
     "output_type": "stream",
     "text": [
      "Enter the purchase amount: $ 56\n"
     ]
    },
    {
     "name": "stdout",
     "output_type": "stream",
     "text": [
      "The discounted price for a purchase of $56.00 is: $53.20\n"
     ]
    }
   ],
   "source": [
    "#Que26 Implement a program to calculate the discounted price based on different purchase amounts using elif \n",
    "\n",
    "purchase_amount = float(input(\"Enter the purchase amount: $\"))\n",
    "discount_rate1 = 0.05  # 5% discount\n",
    "discount_rate2 = 0.1   # 10% discount\n",
    "discount_rate3 = 0.15  # 15% discount\n",
    "\n",
    "if purchase_amount <= 100:\n",
    "    discount = purchase_amount * discount_rate1\n",
    "elif purchase_amount <= 500:\n",
    "    discount = purchase_amount * discount_rate2\n",
    "else:\n",
    "    discount = purchase_amount * discount_rate3\n",
    "\n",
    "final_price = purchase_amount - discount\n",
    "\n",
    "print(f\"The discounted price for a purchase of ${purchase_amount:.2f} is: ${final_price:.2f}\")\n"
   ]
  },
  {
   "cell_type": "code",
   "execution_count": 3,
   "id": "c87bbb09-4fb3-45a7-81fa-b51013d3a192",
   "metadata": {},
   "outputs": [],
   "source": [
    "#Basic Level"
   ]
  },
  {
   "cell_type": "code",
   "execution_count": 7,
   "id": "1b033ec9-e737-4e32-bdda-2d83091e4c09",
   "metadata": {},
   "outputs": [],
   "source": [
    "# All Question are done previously except #Que6 and #Que9"
   ]
  },
  {
   "cell_type": "code",
   "execution_count": 8,
   "id": "d1a38271-2105-4c5b-a8b7-e70039dd1357",
   "metadata": {},
   "outputs": [
    {
     "name": "stdin",
     "output_type": "stream",
     "text": [
      "Enter length of side 1:  8\n",
      "Enter length of side 2:  8\n",
      "Enter length of side 3:  8\n"
     ]
    },
    {
     "name": "stdout",
     "output_type": "stream",
     "text": [
      "The triangle is a Equilateral Triangle\n"
     ]
    }
   ],
   "source": [
    "#Que6 \n",
    "def classify_triangle(a, b, c):\n",
    "    if a == b == c:\n",
    "        return \"Equilateral Triangle\"\n",
    "    elif a == b or b == c or a == c:\n",
    "        return \"Isosceles Triangle\"\n",
    "    else:\n",
    "        return \"Scalene Triangle\"\n",
    "\n",
    "side1 = float(input(\"Enter length of side 1: \"))\n",
    "side2 = float(input(\"Enter length of side 2: \"))\n",
    "side3 = float(input(\"Enter length of side 3: \"))\n",
    "\n",
    "triangle_type = classify_triangle(side1, side2, side3)\n",
    "print(\"The triangle is a\", triangle_type)\n"
   ]
  },
  {
   "cell_type": "code",
   "execution_count": 11,
   "id": "7a6f949c-9ed4-4abf-843a-145b757cd6d2",
   "metadata": {},
   "outputs": [
    {
     "name": "stdin",
     "output_type": "stream",
     "text": [
      "Enter the total cost of items in the cart: $ 77\n"
     ]
    },
    {
     "name": "stdout",
     "output_type": "stream",
     "text": [
      "No discount available for this purchase.\n",
      "Total cost after discount: $ 77.0\n"
     ]
    }
   ],
   "source": [
    "#Que9  Create a program to calculate the total cost of a shopping cart based on discounts\n",
    "def calculate_total_cost(cart_cost):\n",
    "    discount_10 = 0.1  # 10% discount\n",
    "    discount_20 = 0.2  # 20% discount\n",
    "    discount_30 = 0.3  # 30% discount\n",
    "\n",
    "    if cart_cost >= 100 and cart_cost < 500:\n",
    "        total_cost = cart_cost * (1 - discount_10)\n",
    "        print(\"You qualify for a 10% discount!\")\n",
    "    elif cart_cost >= 500 and cart_cost < 1000:\n",
    "        total_cost = cart_cost * (1 - discount_20)\n",
    "        print(\"You qualify for a 20% discount!\")\n",
    "    elif cart_cost >= 1000:\n",
    "        total_cost = cart_cost * (1 - discount_30)\n",
    "        print(\"You qualify for a 30% discount!\")\n",
    "    else:\n",
    "        total_cost = cart_cost\n",
    "        print(\"No discount available for this purchase.\")\n",
    "\n",
    "    return total_cost\n",
    "\n",
    "# Input total cost of items in the shopping cart\n",
    "cart_cost = float(input(\"Enter the total cost of items in the cart: $\"))\n",
    "\n",
    "final_cost = calculate_total_cost(cart_cost)\n",
    "print(\"Total cost after discount: $\", final_cost)\n"
   ]
  },
  {
   "cell_type": "code",
   "execution_count": 1,
   "id": "e8f63377-a149-4031-9724-c1fec56eee84",
   "metadata": {},
   "outputs": [
    {
     "name": "stdin",
     "output_type": "stream",
     "text": [
      "Enter coefficient a:  12\n",
      "Enter coefficient b:  3\n",
      "Enter coefficient c:  5\n"
     ]
    },
    {
     "name": "stdout",
     "output_type": "stream",
     "text": [
      "The roots of the equation are: (-0.125+0.6332785063987777j) and (-0.125-0.6332785063987777j)\n"
     ]
    }
   ],
   "source": [
    "#Intermediate Level \n",
    "#All Question are done previously except Que11,Que12,Que13,Que15,Que17,Que18,Que19,Que20\n",
    "\n",
    "#Que11 Write a program that calculates the roots of a quadratic equation .\n",
    "import cmath\n",
    "\n",
    "def calculate_roots(a, b, c):\n",
    "    # Calculate the discriminant\n",
    "    discriminant = (b**2) - (4*a*c)\n",
    "\n",
    "    # Compute the roots\n",
    "    root1 = (-b + cmath.sqrt(discriminant)) / (2*a)\n",
    "    root2 = (-b - cmath.sqrt(discriminant)) / (2*a)\n",
    "\n",
    "    return root1, root2\n",
    "\n",
    "# Get coefficients from the user\n",
    "a = float(input(\"Enter coefficient a: \"))\n",
    "b = float(input(\"Enter coefficient b: \"))\n",
    "c = float(input(\"Enter coefficient c: \"))\n",
    "\n",
    "# Calculate and display the roots\n",
    "roots = calculate_roots(a, b, c)\n",
    "print(f\"The roots of the equation are: {roots[0]} and {roots[1]}\")\n"
   ]
  },
  {
   "cell_type": "code",
   "execution_count": 2,
   "id": "db982716-fed5-4467-8d73-b6e87d8b0a07",
   "metadata": {},
   "outputs": [
    {
     "name": "stdin",
     "output_type": "stream",
     "text": [
      "Enter number between 1 to 7 1\n"
     ]
    },
    {
     "name": "stdout",
     "output_type": "stream",
     "text": [
      "Monday\n"
     ]
    }
   ],
   "source": [
    "#Que12 Create a program that determines the day of the week based on the day number (1-7).\n",
    "day=int(input(\"Enter number between 1 to 7\"))\n",
    "if day==1:\n",
    "    print(\"Monday\")\n",
    "elif day==2:\n",
    "    print(\"Tuesday\")\n",
    "elif day==3:\n",
    "    print(\"Wednesday\")\n",
    "\n",
    "elif day==4:\n",
    "    print(\"Thrusday\")\n",
    "elif day==5:\n",
    "    print(\"Friday\")\n",
    "elif day==6:\n",
    "    print(\"Saturday\")\n",
    "elif day==7:\n",
    "    print(\"Sunday\")\n",
    "    \n",
    "else:\n",
    "    print(\"Enter a valid choice\")\n",
    "    \n",
    "        "
   ]
  },
  {
   "cell_type": "code",
   "execution_count": 3,
   "id": "4337648e-f6f2-4400-9729-f88f602336be",
   "metadata": {},
   "outputs": [
    {
     "name": "stdin",
     "output_type": "stream",
     "text": [
      "Enter a number to calculate its factorial:  5\n"
     ]
    },
    {
     "name": "stdout",
     "output_type": "stream",
     "text": [
      "The factorial of 5 is 120\n"
     ]
    }
   ],
   "source": [
    "#Que13 Develop a program that calculates the factorial of a given number using recursion.\n",
    "def factorial(n):\n",
    "    if n == 0 or n == 1:\n",
    "        return 1\n",
    "    else:\n",
    "        return n * factorial(n - 1)\n",
    "\n",
    "num = int(input(\"Enter a number to calculate its factorial: \"))\n",
    "\n",
    "if num < 0:\n",
    "    print(\"Factorial is not defined for negative numbers.\")\n",
    "else:\n",
    "    result = factorial(num)\n",
    "    print(f\"The factorial of {num} is {result}\")\n"
   ]
  },
  {
   "cell_type": "code",
   "execution_count": 4,
   "id": "a8ef6c2a-13fe-499a-8b3b-49af6fce88f2",
   "metadata": {},
   "outputs": [
    {
     "name": "stdout",
     "output_type": "stream",
     "text": [
      "Average of list is : 3.0\n"
     ]
    }
   ],
   "source": [
    "#Que17 Write a program that calculates the average of a list of numbers, \n",
    "#excluding the smallest and largest values.\n",
    "\n",
    "li=[1,2,3,4,5]\n",
    "maximum=max(li)\n",
    "minimum=min(li)\n",
    "sum,len=0,0\n",
    "for i in li:\n",
    "    if i==maximum or i==minimum:\n",
    "        continue\n",
    "    else:\n",
    "        sum=sum+i\n",
    "        len=len+1\n",
    "avg=sum/len\n",
    "print(f\"Average of list is : {avg}\")\n"
   ]
  },
  {
   "cell_type": "code",
   "execution_count": 5,
   "id": "1e2bb097-0f43-407b-ba28-da138eae59de",
   "metadata": {},
   "outputs": [
    {
     "name": "stdin",
     "output_type": "stream",
     "text": [
      "Enter coefficient a:  2\n",
      "Enter coefficient b:  3\n",
      "Enter coefficient c:  5\n",
      "Enter coefficient d:  6\n"
     ]
    },
    {
     "name": "stdout",
     "output_type": "stream",
     "text": [
      "The roots of the cubic equation are: ((0.5956590919193114+1.108090572931117j), (-0.08819496010725525-0.7132672519071626j), (-2.007464131812056-0.3948233210239543j))\n"
     ]
    }
   ],
   "source": [
    "#Que20.Write a program that determines the roots of a cubic equation using the Cardano formula\n",
    "import math\n",
    "\n",
    "def cubic_roots(a, b, c, d):\n",
    "    # Calculate the discriminant and other intermediate values\n",
    "    p = c / a - (b**2) / (3 * (a**2))\n",
    "    q = (2 * (b**3)) / (27 * (a**3)) - (b * c) / (3 * (a**2)) + d / a\n",
    "    discriminant = (q**2) / 4 + (p**3) / 27\n",
    "\n",
    "    # Define the constants for the Cardano formula\n",
    "    const1 = (-1) / 2 + 1j * math.sqrt(3) / 2\n",
    "    const2 = (-1) / 2 - 1j * math.sqrt(3) / 2\n",
    "\n",
    "    if discriminant > 0:\n",
    "        # Case 1: Three real roots\n",
    "        u = (-q / 2 + math.sqrt(discriminant)) ** (1 / 3)\n",
    "        v = (-q / 2 - math.sqrt(discriminant)) ** (1 / 3)\n",
    "        root1 = u + v - b / (3 * a)\n",
    "        root2 = const1 * u + const2 * v - b / (3 * a)\n",
    "        root3 = const2 * u + const1 * v - b / (3 * a)\n",
    "        return root1, root2, root3\n",
    "    elif discriminant == 0:\n",
    "        # Case 2: One real root and two complex conjugate roots\n",
    "        if q >= 0:\n",
    "            root1 = (-2 * q) ** (1 / 3) - b / (3 * a)\n",
    "        else:\n",
    "            root1 = ((-2 * q) ** (1 / 3)) - b / (3 * a)\n",
    "        root2 = -(root1 + b / (3 * a)) / 2\n",
    "        root3 = math.sqrt(3) * (root1 - b / (3 * a)) / 2\n",
    "        return root1, root2 + 1j * root3, root2 - 1j * root3\n",
    "    else:\n",
    "        # Case 3: Three real roots (one real root and two complex conjugate roots)\n",
    "        r = math.sqrt((-4 * (p**3)) / 27)\n",
    "        phi = math.acos(-q / (2 * r))\n",
    "        s = (r ** (1 / 3))\n",
    "        root1 = 2 * s * math.cos(phi / 3) - b / (3 * a)\n",
    "        root2 = 2 * s * math.cos((phi + 2 * math.pi) / 3) - b / (3 * a)\n",
    "        root3 = 2 * s * math.cos((phi + 4 * math.pi) / 3) - b / (3 * a)\n",
    "        return root1, root2, root3\n",
    "\n",
    "# Get coefficients from the user\n",
    "a = float(input(\"Enter coefficient a: \"))\n",
    "b = float(input(\"Enter coefficient b: \"))\n",
    "c = float(input(\"Enter coefficient c: \"))\n",
    "d = float(input(\"Enter coefficient d: \"))\n",
    "\n",
    "# Calculate and display the roots\n",
    "roots = cubic_roots(a, b, c, d)\n",
    "print(f\"The roots of the cubic equation are: {roots}\")\n"
   ]
  },
  {
   "cell_type": "code",
   "execution_count": 7,
   "id": "6e34dcd3-d6da-4166-899a-7362bc79c820",
   "metadata": {},
   "outputs": [
    {
     "name": "stdout",
     "output_type": "stream",
     "text": [
      "Basic calculator\n",
      "\n",
      "Press 1 for Addition\n",
      "Press 2 for Subtraction\n",
      "Press 3 for Multiplication\n",
      "Press 4 for Division\n",
      "\n"
     ]
    },
    {
     "name": "stdin",
     "output_type": "stream",
     "text": [
      "Enter a choice 1\n",
      "Enter first number 10\n",
      "Enter Second number 20\n"
     ]
    },
    {
     "name": "stdout",
     "output_type": "stream",
     "text": [
      "Addition : 30\n"
     ]
    }
   ],
   "source": [
    "#Que19 calculator\n",
    "print(\"Basic calculator\")\n",
    "print(\"\"\"\n",
    "Press 1 for Addition\n",
    "Press 2 for Subtraction\n",
    "Press 3 for Multiplication\n",
    "Press 4 for Division\n",
    "\"\"\")\n",
    "choice=int(input(\"Enter a choice\"))\n",
    "a=int(input(\"Enter first number\"))\n",
    "b=int(input(\"Enter Second number\"))\n",
    "\n",
    "if choice==1:\n",
    "    print(\"Addition :\",a+b)\n",
    "elif choice==2:\n",
    "    print(\"Subtraction :\",a-b)\n",
    "elif choice==2:\n",
    "    print(\"Multiplication :\",a*b)\n",
    "elif choice==2:\n",
    "    print(\"Division :\",a//b)\n",
    "else:\n",
    "    print(\"Enter a valid choice\")"
   ]
  },
  {
   "cell_type": "code",
   "execution_count": 3,
   "id": "9ac1b678-b302-4883-a1b8-7ee3a80f6273",
   "metadata": {},
   "outputs": [
    {
     "name": "stdin",
     "output_type": "stream",
     "text": [
      "Enter temperature 56\n"
     ]
    },
    {
     "name": "stdout",
     "output_type": "stream",
     "text": [
      "56.0 is 132.8 farhanite\n"
     ]
    }
   ],
   "source": [
    "#Que 18. Develop a program that converts a given temperature from Celsius to Fahrenheit.\n",
    "temp=float(input(\"Enter temperature\"))\n",
    "F = (9/5 * temp) + 32\n",
    "print(f\"{temp} is {F} farhanite\")"
   ]
  },
  {
   "cell_type": "code",
   "execution_count": 4,
   "id": "cc66456e-2334-48e1-8897-588011a06ed1",
   "metadata": {},
   "outputs": [
    {
     "name": "stdout",
     "output_type": "stream",
     "text": [
      "\n",
      "===== ATM Menu =====\n",
      "1. Check Balance\n",
      "2. Deposit\n",
      "3. Withdraw\n",
      "4. Exit\n"
     ]
    },
    {
     "name": "stdin",
     "output_type": "stream",
     "text": [
      "Enter choice (1-4):  1\n"
     ]
    },
    {
     "name": "stdout",
     "output_type": "stream",
     "text": [
      "Your balance is $500\n",
      "\n",
      "===== ATM Menu =====\n",
      "1. Check Balance\n",
      "2. Deposit\n",
      "3. Withdraw\n",
      "4. Exit\n"
     ]
    },
    {
     "name": "stdin",
     "output_type": "stream",
     "text": [
      "Enter choice (1-4):  2\n",
      "Enter amount to deposit: $ 678\n"
     ]
    },
    {
     "name": "stdout",
     "output_type": "stream",
     "text": [
      "$678.0 deposited successfully. Your new balance is $1178.0\n",
      "\n",
      "===== ATM Menu =====\n",
      "1. Check Balance\n",
      "2. Deposit\n",
      "3. Withdraw\n",
      "4. Exit\n"
     ]
    },
    {
     "name": "stdin",
     "output_type": "stream",
     "text": [
      "Enter choice (1-4):  3\n",
      "Enter amount to withdraw: $ 200\n"
     ]
    },
    {
     "name": "stdout",
     "output_type": "stream",
     "text": [
      "$200.0 withdrawn successfully. Your new balance is $978.0\n",
      "\n",
      "===== ATM Menu =====\n",
      "1. Check Balance\n",
      "2. Deposit\n",
      "3. Withdraw\n",
      "4. Exit\n"
     ]
    },
    {
     "name": "stdin",
     "output_type": "stream",
     "text": [
      "Enter choice (1-4):  4\n"
     ]
    },
    {
     "name": "stdout",
     "output_type": "stream",
     "text": [
      "Thank you for using the ATM. Goodbye!\n"
     ]
    }
   ],
   "source": [
    "#Que15 Create a program that simulates a basic ATM transaction menu\n",
    "class ATM:\n",
    "    def __init__(self, balance=0):\n",
    "        self.balance = balance\n",
    "\n",
    "    def check_balance(self):\n",
    "        return f\"Your balance is ${self.balance}\"\n",
    "\n",
    "    def deposit(self, amount):\n",
    "        self.balance += amount\n",
    "        return f\"${amount} deposited successfully. Your new balance is ${self.balance}\"\n",
    "\n",
    "    def withdraw(self, amount):\n",
    "        if amount > self.balance:\n",
    "            return \"Insufficient funds. Transaction canceled.\"\n",
    "        else:\n",
    "            self.balance -= amount\n",
    "            return f\"${amount} withdrawn successfully. Your new balance is ${self.balance}\"\n",
    "\n",
    "def main():\n",
    "    atm = ATM(500)  # Starting balance\n",
    "\n",
    "    while True:\n",
    "        print(\"\\n===== ATM Menu =====\")\n",
    "        print(\"1. Check Balance\")\n",
    "        print(\"2. Deposit\")\n",
    "        print(\"3. Withdraw\")\n",
    "        print(\"4. Exit\")\n",
    "\n",
    "        choice = input(\"Enter choice (1-4): \")\n",
    "\n",
    "        if choice == '1':\n",
    "            print(atm.check_balance())\n",
    "        elif choice == '2':\n",
    "            amount = float(input(\"Enter amount to deposit: $\"))\n",
    "            print(atm.deposit(amount))\n",
    "        elif choice == '3':\n",
    "            amount = float(input(\"Enter amount to withdraw: $\"))\n",
    "            print(atm.withdraw(amount))\n",
    "        elif choice == '4':\n",
    "            print(\"Thank you for using the ATM. Goodbye!\")\n",
    "            break\n",
    "        else:\n",
    "            print(\"Invalid choice. Please enter a number from 1 to 4.\")\n",
    "\n",
    "if __name__ == \"__main__\":\n",
    "    main()\n"
   ]
  },
  {
   "cell_type": "code",
   "execution_count": 3,
   "id": "1c909a1e-0bd8-49b0-9fa5-c4a0c9515498",
   "metadata": {},
   "outputs": [],
   "source": [
    "#Nested if else\n",
    "#Que-12,13,17,18,19 already done"
   ]
  },
  {
   "cell_type": "code",
   "execution_count": 4,
   "id": "6e0ddf93-fe98-48d5-acc1-0102c995002f",
   "metadata": {},
   "outputs": [
    {
     "name": "stdout",
     "output_type": "stream",
     "text": [
      "c is largest\n"
     ]
    }
   ],
   "source": [
    "#Que11  Write a program to find the largest among three numbers using nested if-else statements.\n",
    "a,b,c=10,20,30\n",
    "if a>b:\n",
    "    if a>c:\n",
    "        print(\"a is largest\")\n",
    "    else:\n",
    "        print(\"c is largest\")\n",
    "if b>c:\n",
    "    print(\"b is largest\")\n",
    "else:\n",
    "    print(\"c is largest\")\n",
    "        "
   ]
  },
  {
   "cell_type": "code",
   "execution_count": 1,
   "id": "7c5802e4-330b-4f07-a10f-163c14e19795",
   "metadata": {},
   "outputs": [
    {
     "name": "stdin",
     "output_type": "stream",
     "text": [
      "Enter a number 34\n"
     ]
    },
    {
     "name": "stdout",
     "output_type": "stream",
     "text": [
      "positive\n",
      "Kid\n"
     ]
    }
   ],
   "source": [
    "#Que14 . Write a Python script to determine if a number is positive, negative, or zero.\n",
    "n=int(input(\"Enter a number\"))\n",
    "if n!=0:\n",
    "    if n>0:\n",
    "        print(\"positive\")\n",
    "    else:\n",
    "        print(\"Negative\")\n",
    "else:\n",
    "    print(\"Zero\")\n",
    "\n",
    "#Que15  Create a program to check if a person is a teenager (between 13 and 19 years old).\n",
    "age=1\n",
    "if age>12:\n",
    "    if age<=19:\n",
    "        print(\"Teenager\")\n",
    "    else:\n",
    "        print(\"Adult\")\n",
    "else:\n",
    "    print(\"Kid\")\n"
   ]
  },
  {
   "cell_type": "code",
   "execution_count": 2,
   "id": "1d62ff98-f220-461b-957b-872ddf9b5add",
   "metadata": {},
   "outputs": [
    {
     "name": "stdin",
     "output_type": "stream",
     "text": [
      "Enter the measure of the angle in degrees:  33\n"
     ]
    },
    {
     "name": "stdout",
     "output_type": "stream",
     "text": [
      "The angle with measure 33.0 degrees is a Acute angle.\n"
     ]
    }
   ],
   "source": [
    "#Que16 Develop a program that determines the type of angle based on its measure (acute, obtuse, or right).\n",
    "def angle_type(measure):\n",
    "    if measure < 90:\n",
    "        return \"Acute angle\"\n",
    "    elif measure == 90:\n",
    "        return \"Right angle\"\n",
    "    else:\n",
    "        return \"Obtuse angle\"\n",
    "\n",
    "angle_measure = float(input(\"Enter the measure of the angle in degrees: \"))\n",
    "\n",
    "angle_result = angle_type(angle_measure)\n",
    "print(f\"The angle with measure {angle_measure} degrees is a {angle_result}.\")\n"
   ]
  },
  {
   "cell_type": "code",
   "execution_count": 3,
   "id": "ac0eb891-e84e-4d78-bc41-cc0a842aed52",
   "metadata": {},
   "outputs": [
    {
     "name": "stdin",
     "output_type": "stream",
     "text": [
      "Enter a number to check if it's prime:  23\n"
     ]
    },
    {
     "name": "stdout",
     "output_type": "stream",
     "text": [
      "23 is a prime number.\n"
     ]
    }
   ],
   "source": [
    "#Que20\n",
    "def check_prime(number):\n",
    "    if number <= 1:\n",
    "        return False\n",
    "    elif number == 2:\n",
    "        return True\n",
    "    else:\n",
    "        # Check for factors from 2 to the square root of the number\n",
    "        for i in range(2, int(number ** 0.5) + 1):\n",
    "            if number % i == 0:\n",
    "                return False\n",
    "        return True\n",
    "\n",
    "# Taking user input for the number\n",
    "num = int(input(\"Enter a number to check if it's prime: \"))\n",
    "\n",
    "# Checking if the number is prime and displaying the result\n",
    "if check_prime(num):\n",
    "    print(f\"{num} is a prime number.\")\n",
    "else:\n",
    "    print(f\"{num} is not a prime number.\")\n"
   ]
  },
  {
   "cell_type": "code",
   "execution_count": 1,
   "id": "46e9ca5a-8302-4503-add2-e29b48d73a45",
   "metadata": {},
   "outputs": [
    {
     "name": "stdin",
     "output_type": "stream",
     "text": [
      "Enter your annual income:  777777\n"
     ]
    },
    {
     "name": "stdout",
     "output_type": "stream",
     "text": [
      "Your income tax is: $81000.00\n"
     ]
    }
   ],
   "source": [
    "#Advance level\n",
    "#Que21\n",
    "def calculate_tax(income):\n",
    "    # Tax brackets and rates\n",
    "    brackets = [(10000, 0.1), (40000, 0.2), (80000, 0.3), (120000, 0.4)]\n",
    "    remaining_income = income\n",
    "    total_tax = 0\n",
    "\n",
    "    for bracket in brackets:\n",
    "        if remaining_income <= 0:\n",
    "            break\n",
    "        bracket_limit, tax_rate = bracket\n",
    "        if remaining_income > bracket_limit:\n",
    "            taxable_amount = bracket_limit\n",
    "        else:\n",
    "            taxable_amount = remaining_income\n",
    "\n",
    "        tax_on_bracket = taxable_amount * tax_rate\n",
    "        total_tax += tax_on_bracket\n",
    "        remaining_income -= taxable_amount\n",
    "\n",
    "    return total_tax\n",
    "\n",
    "# Get user input for income\n",
    "income = float(input(\"Enter your annual income: \"))\n",
    "\n",
    "# Calculate tax\n",
    "tax = calculate_tax(income)\n",
    "print(f\"Your income tax is: ${tax:.2f}\")\n",
    "\n"
   ]
  },
  {
   "cell_type": "code",
   "execution_count": 2,
   "id": "9d17e71c-2ac8-456e-a5fd-74caa281e04a",
   "metadata": {},
   "outputs": [
    {
     "name": "stdout",
     "output_type": "stream",
     "text": [
      "Let's play Rock-Paper-Scissors!\n"
     ]
    },
    {
     "name": "stdin",
     "output_type": "stream",
     "text": [
      "Enter Rock, Paper, or Scissors:  rock\n"
     ]
    },
    {
     "name": "stdout",
     "output_type": "stream",
     "text": [
      "You chose: rock\n",
      "Computer chose: rock\n",
      "It's a tie!\n"
     ]
    },
    {
     "name": "stdin",
     "output_type": "stream",
     "text": [
      "Do you want to play again? (yes/no):  no\n"
     ]
    },
    {
     "name": "stdout",
     "output_type": "stream",
     "text": [
      "Thanks for playing!\n"
     ]
    }
   ],
   "source": [
    "#Que22\n",
    "import random\n",
    "\n",
    "def get_user_choice():\n",
    "    while True:\n",
    "        user_choice = input(\"Enter Rock, Paper, or Scissors: \").lower()\n",
    "        if user_choice in ['rock', 'paper', 'scissors']:\n",
    "            return user_choice\n",
    "        else:\n",
    "            print(\"Invalid choice. Please enter Rock, Paper, or Scissors.\")\n",
    "\n",
    "def get_computer_choice():\n",
    "    choices = ['rock', 'paper', 'scissors']\n",
    "    return random.choice(choices)\n",
    "\n",
    "def determine_winner(user_choice, computer_choice):\n",
    "    if user_choice == computer_choice:\n",
    "        return \"It's a tie!\"\n",
    "    elif (user_choice == 'rock' and computer_choice == 'scissors') or \\\n",
    "         (user_choice == 'paper' and computer_choice == 'rock') or \\\n",
    "         (user_choice == 'scissors' and computer_choice == 'paper'):\n",
    "        return \"You win!\"\n",
    "    else:\n",
    "        return \"Computer wins!\"\n",
    "\n",
    "def play_game():\n",
    "    print(\"Let's play Rock-Paper-Scissors!\")\n",
    "    while True:\n",
    "        user_choice = get_user_choice()\n",
    "        computer_choice = get_computer_choice()\n",
    "        print(f\"You chose: {user_choice}\")\n",
    "        print(f\"Computer chose: {computer_choice}\")\n",
    "        result = determine_winner(user_choice, computer_choice)\n",
    "        print(result)\n",
    "        play_again = input(\"Do you want to play again? (yes/no): \").lower()\n",
    "        if play_again != 'yes':\n",
    "            print(\"Thanks for playing!\")\n",
    "            break\n",
    "\n",
    "# Start the game\n",
    "play_game()\n"
   ]
  },
  {
   "cell_type": "code",
   "execution_count": 3,
   "id": "e9c4af5a-0356-4644-9a4c-bef8679e2894",
   "metadata": {},
   "outputs": [
    {
     "name": "stdout",
     "output_type": "stream",
     "text": [
      "Welcome to the Random Password Generator!\n"
     ]
    },
    {
     "name": "stdin",
     "output_type": "stream",
     "text": [
      "Enter the length of the password:  6\n",
      "Include uppercase letters? (yes/no):  yes\n",
      "Include numbers? (yes/no):  yes\n",
      "Include symbols? (yes/no):  yes\n"
     ]
    },
    {
     "name": "stdout",
     "output_type": "stream",
     "text": [
      "Your generated password is: /*)mGW\n"
     ]
    }
   ],
   "source": [
    "#Que23\n",
    "import random\n",
    "import string\n",
    "\n",
    "def generate_password(length, use_uppercase, use_numbers, use_symbols):\n",
    "    characters = string.ascii_lowercase\n",
    "    if use_uppercase:\n",
    "        characters += string.ascii_uppercase\n",
    "    if use_numbers:\n",
    "        characters += string.digits\n",
    "    if use_symbols:\n",
    "        characters += string.punctuation\n",
    "\n",
    "    password = ''.join(random.choice(characters) for _ in range(length))\n",
    "    return password\n",
    "\n",
    "def get_user_preferences():\n",
    "    length = int(input(\"Enter the length of the password: \"))\n",
    "    use_uppercase = input(\"Include uppercase letters? (yes/no): \").lower() == 'yes'\n",
    "    use_numbers = input(\"Include numbers? (yes/no): \").lower() == 'yes'\n",
    "    use_symbols = input(\"Include symbols? (yes/no): \").lower() == 'yes'\n",
    "    return length, use_uppercase, use_numbers, use_symbols\n",
    "\n",
    "def main():\n",
    "    print(\"Welcome to the Random Password Generator!\")\n",
    "    length, use_uppercase, use_numbers, use_symbols = get_user_preferences()\n",
    "    password = generate_password(length, use_uppercase, use_numbers, use_symbols)\n",
    "    print(f\"Your generated password is: {password}\")\n",
    "\n",
    "# Start the program\n",
    "main()\n",
    "\n"
   ]
  },
  {
   "cell_type": "code",
   "execution_count": 4,
   "id": "493e03c9-9674-4dd4-836d-273fe8b3aa71",
   "metadata": {},
   "outputs": [
    {
     "name": "stdout",
     "output_type": "stream",
     "text": [
      "Welcome to the Text Adventure Game!\n",
      "You wake up in a mysterious room. There are two doors in front of you.\n",
      "\n",
      "What would you like to do?\n",
      "1. Open door on the left\n",
      "2. Open door on the right\n",
      "3. Quit game\n"
     ]
    },
    {
     "name": "stdin",
     "output_type": "stream",
     "text": [
      "Enter your choice (1/2/3):  1\n"
     ]
    },
    {
     "name": "stdout",
     "output_type": "stream",
     "text": [
      "\n",
      "You opened the door on the left and found a treasure chest!\n",
      "What do you want to do?\n",
      "1. Open the chest\n",
      "2. Leave it alone\n"
     ]
    },
    {
     "name": "stdin",
     "output_type": "stream",
     "text": [
      "Enter your choice (1/2):  1\n"
     ]
    },
    {
     "name": "stdout",
     "output_type": "stream",
     "text": [
      "\n",
      "Congratulations! You found a key and a map.\n",
      "You win!\n",
      "\n",
      "What would you like to do?\n",
      "1. Open door on the left\n",
      "2. Open door on the right\n",
      "3. Quit game\n"
     ]
    },
    {
     "name": "stdin",
     "output_type": "stream",
     "text": [
      "Enter your choice (1/2/3):  3\n"
     ]
    },
    {
     "name": "stdout",
     "output_type": "stream",
     "text": [
      "Thanks for playing!\n"
     ]
    }
   ],
   "source": [
    "#Que24\n",
    "def start_game():\n",
    "    print(\"Welcome to the Text Adventure Game!\")\n",
    "    print(\"You wake up in a mysterious room. There are two doors in front of you.\")\n",
    "\n",
    "    while True:\n",
    "        print(\"\\nWhat would you like to do?\")\n",
    "        print(\"1. Open door on the left\")\n",
    "        print(\"2. Open door on the right\")\n",
    "        print(\"3. Quit game\")\n",
    "\n",
    "        choice = input(\"Enter your choice (1/2/3): \")\n",
    "\n",
    "        if choice == '1':\n",
    "            door_left()\n",
    "        elif choice == '2':\n",
    "            door_right()\n",
    "        elif choice == '3':\n",
    "            print(\"Thanks for playing!\")\n",
    "            break\n",
    "        else:\n",
    "            print(\"Invalid choice. Please enter 1, 2, or 3.\")\n",
    "\n",
    "def door_left():\n",
    "    print(\"\\nYou opened the door on the left and found a treasure chest!\")\n",
    "    print(\"What do you want to do?\")\n",
    "    print(\"1. Open the chest\")\n",
    "    print(\"2. Leave it alone\")\n",
    "\n",
    "    choice = input(\"Enter your choice (1/2): \")\n",
    "\n",
    "    if choice == '1':\n",
    "        print(\"\\nCongratulations! You found a key and a map.\")\n",
    "        print(\"You win!\")\n",
    "    elif choice == '2':\n",
    "        print(\"\\nYou decide to leave the chest and explore further.\")\n",
    "        print(\"You hear some strange noises.\")\n",
    "        print(\"You cautiously head back to the starting room.\")\n",
    "    else:\n",
    "        print(\"Invalid choice. You head back to the starting room.\")\n",
    "\n",
    "def door_right():\n",
    "    print(\"\\nYou opened the door on the right and encountered a fierce dragon!\")\n",
    "    print(\"What do you want to do?\")\n",
    "    print(\"1. Fight the dragon\")\n",
    "    print(\"2. Try to run away\")\n",
    "\n",
    "    choice = input(\"Enter your choice (1/2): \")\n",
    "\n",
    "    if choice == '1':\n",
    "        print(\"\\nYou bravely fight the dragon...\")\n",
    "        print(\"Unfortunately, the dragon is too powerful. You lose!\")\n",
    "    elif choice == '2':\n",
    "        print(\"\\nYou attempt to run away...\")\n",
    "        print(\"The dragon catches up and blocks your escape. You lose!\")\n",
    "    else:\n",
    "        print(\"Invalid choice. The dragon approaches.\")\n",
    "\n",
    "# Start the game\n",
    "start_game()\n"
   ]
  },
  {
   "cell_type": "code",
   "execution_count": 5,
   "id": "464263ab-590d-48ac-a057-02313d89db4a",
   "metadata": {},
   "outputs": [
    {
     "name": "stdout",
     "output_type": "stream",
     "text": [
      "This program solves a linear equation of the form ax + b = 0\n"
     ]
    },
    {
     "name": "stdin",
     "output_type": "stream",
     "text": [
      "Enter the value of 'a':  6\n",
      "Enter the value of 'b':  8\n"
     ]
    },
    {
     "name": "stdout",
     "output_type": "stream",
     "text": [
      "The solution is x = -1.3333333333333333\n"
     ]
    }
   ],
   "source": [
    "#Que25\n",
    "def solve_linear_equation(a, b):\n",
    "    if a == 0:\n",
    "        if b == 0:\n",
    "            return \"Infinite solutions (identity equation)\"\n",
    "        else:\n",
    "            return \"No solution (contradictory equation)\"\n",
    "    else:\n",
    "        x = -b / a\n",
    "        return f\"The solution is x = {x}\"\n",
    "\n",
    "def main():\n",
    "    print(\"This program solves a linear equation of the form ax + b = 0\")\n",
    "    a = float(input(\"Enter the value of 'a': \"))\n",
    "    b = float(input(\"Enter the value of 'b': \"))\n",
    "\n",
    "    solution = solve_linear_equation(a, b)\n",
    "    print(solution)\n",
    "\n",
    "# Start the program\n",
    "main()\n"
   ]
  },
  {
   "cell_type": "code",
   "execution_count": 6,
   "id": "d11bd855-7e80-42af-8acb-b0201d105d40",
   "metadata": {},
   "outputs": [
    {
     "name": "stdout",
     "output_type": "stream",
     "text": [
      "Welcome to the Quiz Game!\n",
      "What is the capital of France?\n",
      "1. London\n",
      "2. Paris\n",
      "3. Berlin\n"
     ]
    },
    {
     "name": "stdin",
     "output_type": "stream",
     "text": [
      "Enter your choice (1/2/3):  2\n"
     ]
    },
    {
     "name": "stdout",
     "output_type": "stream",
     "text": [
      "Correct!\n",
      "Which planet is known as the Red Planet?\n",
      "1. Mars\n",
      "2. Jupiter\n",
      "3. Venus\n"
     ]
    },
    {
     "name": "stdin",
     "output_type": "stream",
     "text": [
      "Enter your choice (1/2/3):  1\n"
     ]
    },
    {
     "name": "stdout",
     "output_type": "stream",
     "text": [
      "Correct!\n",
      "What is the largest mammal?\n",
      "1. Elephant\n",
      "2. Blue whale\n",
      "3. Giraffe\n"
     ]
    },
    {
     "name": "stdin",
     "output_type": "stream",
     "text": [
      "Enter your choice (1/2/3):  2\n"
     ]
    },
    {
     "name": "stdout",
     "output_type": "stream",
     "text": [
      "Correct!\n",
      "Quiz complete!\n",
      "Your score is: 3/3\n"
     ]
    }
   ],
   "source": [
    "#Que26\n",
    "class QuizQuestion:\n",
    "    def __init__(self, question, choices, correct_answer):\n",
    "        self.question = question\n",
    "        self.choices = choices\n",
    "        self.correct_answer = correct_answer\n",
    "\n",
    "    def display_question(self):\n",
    "        print(self.question)\n",
    "        for i, choice in enumerate(self.choices, start=1):\n",
    "            print(f\"{i}. {choice}\")\n",
    "    \n",
    "    def check_answer(self, user_answer):\n",
    "        return user_answer == self.correct_answer\n",
    "\n",
    "\n",
    "class QuizGame:\n",
    "    def __init__(self):\n",
    "        self.questions = []\n",
    "        self.score = 0\n",
    "    \n",
    "    def add_question(self, question):\n",
    "        self.questions.append(question)\n",
    "    \n",
    "    def display_score(self):\n",
    "        print(f\"Your score is: {self.score}/{len(self.questions)}\")\n",
    "\n",
    "    def start_quiz(self):\n",
    "        print(\"Welcome to the Quiz Game!\")\n",
    "        for question in self.questions:\n",
    "            question.display_question()\n",
    "            user_answer = int(input(\"Enter your choice (1/2/3): \"))\n",
    "            if question.check_answer(user_answer):\n",
    "                print(\"Correct!\")\n",
    "                self.score += 1\n",
    "            else:\n",
    "                print(\"Incorrect!\")\n",
    "        \n",
    "        print(\"Quiz complete!\")\n",
    "        self.display_score()\n",
    "\n",
    "# Create quiz questions\n",
    "question1 = QuizQuestion(\"What is the capital of France?\", [\"London\", \"Paris\", \"Berlin\"], 2)\n",
    "question2 = QuizQuestion(\"Which planet is known as the Red Planet?\", [\"Mars\", \"Jupiter\", \"Venus\"], 1)\n",
    "question3 = QuizQuestion(\"What is the largest mammal?\", [\"Elephant\", \"Blue whale\", \"Giraffe\"], 2)\n",
    "\n",
    "# Create a quiz game\n",
    "quiz = QuizGame()\n",
    "quiz.add_question(question1)\n",
    "quiz.add_question(question2)\n",
    "quiz.add_question(question3)\n",
    "\n",
    "# Start the quiz game\n",
    "quiz.start_quiz()\n"
   ]
  },
  {
   "cell_type": "code",
   "execution_count": 7,
   "id": "290b4574-bcd2-44d3-a844-c489f655841d",
   "metadata": {},
   "outputs": [
    {
     "name": "stdin",
     "output_type": "stream",
     "text": [
      "Enter a year to check if it's prime:  2004\n"
     ]
    },
    {
     "name": "stdout",
     "output_type": "stream",
     "text": [
      "2004 is not a prime year.\n"
     ]
    }
   ],
   "source": [
    "#Que27\n",
    "def is_prime(year):\n",
    "    if year <= 1:\n",
    "        return False\n",
    "    for i in range(2, int(year ** 0.5) + 1):\n",
    "        if year % i == 0:\n",
    "            return False\n",
    "    return True\n",
    "\n",
    "def main():\n",
    "    year = int(input(\"Enter a year to check if it's prime: \"))\n",
    "    if is_prime(year):\n",
    "        print(f\"{year} is a prime year!\")\n",
    "    else:\n",
    "        print(f\"{year} is not a prime year.\")\n",
    "\n",
    "# Start the program\n",
    "main()\n"
   ]
  },
  {
   "cell_type": "code",
   "execution_count": 8,
   "id": "b6b65f54-caa9-4084-a624-05dff7ee9dd5",
   "metadata": {},
   "outputs": [
    {
     "name": "stdin",
     "output_type": "stream",
     "text": [
      "Enter the first number:  10\n",
      "Enter the second number:  1\n",
      "Enter the third number:  11\n"
     ]
    },
    {
     "name": "stdout",
     "output_type": "stream",
     "text": [
      "The numbers in ascending order are: (1.0, 10.0, 11.0)\n"
     ]
    }
   ],
   "source": [
    "#Que28\n",
    "def sort_numbers(a, b, c):\n",
    "    if a <= b <= c:\n",
    "        return a, b, c\n",
    "    elif a <= c <= b:\n",
    "        return a, c, b\n",
    "    elif b <= a <= c:\n",
    "        return b, a, c\n",
    "    elif b <= c <= a:\n",
    "        return b, c, a\n",
    "    elif c <= a <= b:\n",
    "        return c, a, b\n",
    "    else:\n",
    "        return c, b, a\n",
    "\n",
    "def main():\n",
    "    num1 = float(input(\"Enter the first number: \"))\n",
    "    num2 = float(input(\"Enter the second number: \"))\n",
    "    num3 = float(input(\"Enter the third number: \"))\n",
    "\n",
    "    sorted_nums = sort_numbers(num1, num2, num3)\n",
    "    print(\"The numbers in ascending order are:\", sorted_nums)\n",
    "\n",
    "# Start the program\n",
    "main()\n",
    "\n"
   ]
  },
  {
   "cell_type": "code",
   "execution_count": 10,
   "id": "8f7b27b4-b010-4511-adbb-061ca046bd06",
   "metadata": {},
   "outputs": [
    {
     "name": "stdout",
     "output_type": "stream",
     "text": [
      "The root of the quartic equation is approximately: -1.582576\n"
     ]
    }
   ],
   "source": [
    "import sympy as sp\n",
    "\n",
    "def newton_raphson_quartic(eq, x0, tolerance=1e-10, max_iterations=1000):\n",
    "    x = x0\n",
    "    iteration = 0\n",
    "\n",
    "    while True:\n",
    "        f_x = eq.subs(sp.Symbol('x'), x)\n",
    "        f_prime_x = sp.diff(eq, sp.Symbol('x')).subs(sp.Symbol('x'), x)\n",
    "\n",
    "        x_new = x - (f_x / f_prime_x)\n",
    "\n",
    "        if abs(x_new - x) < tolerance:\n",
    "            return x_new\n",
    "        \n",
    "        x = x_new\n",
    "        iteration += 1\n",
    "\n",
    "        if iteration >= max_iterations:\n",
    "            print(\"Max iterations reached.\")\n",
    "            break\n",
    "\n",
    "    return None\n",
    "\n",
    "def main():\n",
    "    x = sp.symbols('x')\n",
    "    # Define your quartic equation here (in the form ax^4 + bx^3 + cx^2 + dx + e = 0)\n",
    "    equation = x**4 - 6 * x**3 - 72 * x**2 + 360 * x + 720\n",
    "\n",
    "    initial_guess = 0  # Initial guess for Newton-Raphson method\n",
    "\n",
    "    root = newton_raphson_quartic(equation, initial_guess)\n",
    "    if root is not None:\n",
    "        print(f\"The root of the quartic equation is approximately: {root:.6f}\")\n",
    "    else:\n",
    "        print(\"Couldn't find a root within the given tolerance.\")\n",
    "\n",
    "# Start the program\n",
    "main()\n"
   ]
  },
  {
   "cell_type": "code",
   "execution_count": 12,
   "id": "3331db32-11df-4a2e-a015-316a7087c34b",
   "metadata": {},
   "outputs": [
    {
     "name": "stdin",
     "output_type": "stream",
     "text": [
      "Enter your weight in kilograms:  60\n",
      "Enter your height in meters:  178\n"
     ]
    },
    {
     "name": "stdout",
     "output_type": "stream",
     "text": [
      "Your BMI is: 0.00 - Underweight\n",
      "Recommendation: You may need to gain some weight. Consult a healthcare professional for guidance.\n"
     ]
    }
   ],
   "source": [
    "#Que30\n",
    "def calculate_bmi(weight, height):\n",
    "    return weight / (height ** 2)\n",
    "\n",
    "def interpret_bmi(bmi):\n",
    "    if bmi < 18.5:\n",
    "        return \"Underweight\"\n",
    "    elif 18.5 <= bmi < 25:\n",
    "        return \"Normal weight\"\n",
    "    elif 25 <= bmi < 30:\n",
    "        return \"Overweight\"\n",
    "    else:\n",
    "        return \"Obese\"\n",
    "\n",
    "def health_recommendation(bmi_category):\n",
    "    if bmi_category == \"Underweight\":\n",
    "        return \"You may need to gain some weight. Consult a healthcare professional for guidance.\"\n",
    "    elif bmi_category == \"Normal weight\":\n",
    "        return \"Congratulations! Your weight is within the healthy range.\"\n",
    "    elif bmi_category == \"Overweight\":\n",
    "        return \"Consider losing weight through a balanced diet and regular exercise.\"\n",
    "    else:\n",
    "        return \"You might be at risk of health problems. Please consult a healthcare professional.\"\n",
    "\n",
    "def main():\n",
    "    weight = float(input(\"Enter your weight in kilograms: \"))\n",
    "    height = float(input(\"Enter your height in meters: \"))\n",
    "\n",
    "    bmi = calculate_bmi(weight, height)\n",
    "    bmi_category = interpret_bmi(bmi)\n",
    "\n",
    "    print(f\"Your BMI is: {bmi:.2f} - {bmi_category}\")\n",
    "    recommendation = health_recommendation(bmi_category)\n",
    "    print(\"Recommendation:\", recommendation)\n",
    "\n",
    "# Start the program\n",
    "main()\n"
   ]
  },
  {
   "cell_type": "code",
   "execution_count": 13,
   "id": "e0e58ae7-39bf-4792-aa43-7660abaae60b",
   "metadata": {},
   "outputs": [
    {
     "name": "stdin",
     "output_type": "stream",
     "text": [
      "Enter a password to validate:  #pass@123\n"
     ]
    },
    {
     "name": "stdout",
     "output_type": "stream",
     "text": [
      "Invalid password: Password should contain at least one uppercase letter.\n"
     ]
    }
   ],
   "source": [
    "#Challange level\n",
    "#Que31\n",
    "def validate_password(password):\n",
    "    # Rule 1: Minimum length of 8 characters\n",
    "    if len(password) < 8:\n",
    "        return False, \"Password should have a minimum length of 8 characters.\"\n",
    "\n",
    "    # Rule 2: Must contain at least one uppercase letter\n",
    "    if not any(char.isupper() for char in password):\n",
    "        return False, \"Password should contain at least one uppercase letter.\"\n",
    "\n",
    "    # Rule 3: Must contain at least one lowercase letter\n",
    "    if not any(char.islower() for char in password):\n",
    "        return False, \"Password should contain at least one lowercase letter.\"\n",
    "\n",
    "    # Rule 4: Must contain at least one digit\n",
    "    if not any(char.isdigit() for char in password):\n",
    "        return False, \"Password should contain at least one digit.\"\n",
    "\n",
    "    # Rule 5: Can contain special characters\n",
    "    # Add more special characters if needed\n",
    "    special_characters = \"!@#$%^&*()-_+=[]{}|;:,.<>?/\"\n",
    "    if not any(char in special_characters for char in password):\n",
    "        return False, \"Password should contain at least one special character.\"\n",
    "\n",
    "    return True, \"Password meets complexity requirements.\"\n",
    "\n",
    "def main():\n",
    "    password = input(\"Enter a password to validate: \")\n",
    "\n",
    "    is_valid, message = validate_password(password)\n",
    "    if is_valid:\n",
    "        print(\"Password is valid!\")\n",
    "    else:\n",
    "        print(f\"Invalid password: {message}\")\n",
    "\n",
    "# Start the program\n",
    "main()\n"
   ]
  },
  {
   "cell_type": "code",
   "execution_count": 24,
   "id": "00e42dc8-e014-485d-8a12-f98659f03414",
   "metadata": {},
   "outputs": [
    {
     "name": "stdout",
     "output_type": "stream",
     "text": [
      "Matrix Addition and Subtraction Program\n"
     ]
    },
    {
     "name": "stdin",
     "output_type": "stream",
     "text": [
      "Enter the number of rows:  1\n",
      "Enter the number of columns:  1\n"
     ]
    },
    {
     "name": "stdout",
     "output_type": "stream",
     "text": [
      "Enter the first matrix:\n",
      "Enter the elements for a 1x1 matrix:\n"
     ]
    },
    {
     "name": "stdin",
     "output_type": "stream",
     "text": [
      "Enter element [1][1]:  1\n"
     ]
    },
    {
     "name": "stdout",
     "output_type": "stream",
     "text": [
      "Enter the second matrix:\n",
      "Enter the elements for a 1x1 matrix:\n"
     ]
    },
    {
     "name": "stdin",
     "output_type": "stream",
     "text": [
      "Enter element [1][1]:  2\n"
     ]
    },
    {
     "name": "stdout",
     "output_type": "stream",
     "text": [
      "\n",
      "First matrix:\n",
      "[1.0]\n",
      "\n",
      "Second matrix:\n",
      "[2.0]\n",
      "\n",
      "Matrix Addition Result:\n",
      "[3.0]\n",
      "\n",
      "Matrix Subtraction Result:\n",
      "[-1.0]\n"
     ]
    }
   ],
   "source": [
    "#Que32\n",
    "def matrix_addition(matrix1, matrix2):\n",
    "    result = []\n",
    "    for i in range(len(matrix1)):\n",
    "        row = []\n",
    "        for j in range(len(matrix1[0])):\n",
    "            row.append(matrix1[i][j] + matrix2[i][j])\n",
    "        result.append(row)\n",
    "    return result\n",
    "\n",
    "def matrix_subtraction(matrix1, matrix2):\n",
    "    result = []\n",
    "    for i in range(len(matrix1)):\n",
    "        row = []\n",
    "        for j in range(len(matrix1[0])):\n",
    "            row.append(matrix1[i][j] - matrix2[i][j])\n",
    "        result.append(row)\n",
    "    return result\n",
    "\n",
    "def input_matrix(rows, columns):\n",
    "    matrix = []\n",
    "    print(f\"Enter the elements for a {rows}x{columns} matrix:\")\n",
    "    for i in range(rows):\n",
    "        row = []\n",
    "        for j in range(columns):\n",
    "            element = float(input(f\"Enter element [{i+1}][{j+1}]: \"))\n",
    "            row.append(element)\n",
    "        matrix.append(row)\n",
    "    return matrix\n",
    "\n",
    "def display_matrix(matrix):\n",
    "    for row in matrix:\n",
    "        print(row)\n",
    "\n",
    "def main():\n",
    "    print(\"Matrix Addition and Subtraction Program\")\n",
    "    rows = int(input(\"Enter the number of rows: \"))\n",
    "    columns = int(input(\"Enter the number of columns: \"))\n",
    "\n",
    "    print(\"Enter the first matrix:\")\n",
    "    matrix1 = input_matrix(rows, columns)\n",
    "\n",
    "    print(\"Enter the second matrix:\")\n",
    "    matrix2 = input_matrix(rows, columns)\n",
    "\n",
    "    print(\"\\nFirst matrix:\")\n",
    "    display_matrix(matrix1)\n",
    "\n",
    "    print(\"\\nSecond matrix:\")\n",
    "    display_matrix(matrix2)\n",
    "\n",
    "    sum_result = matrix_addition(matrix1, matrix2)\n",
    "    difference_result = matrix_subtraction(matrix1, matrix2)\n",
    "\n",
    "    print(\"\\nMatrix Addition Result:\")\n",
    "    display_matrix(sum_result)\n",
    "\n",
    "    print(\"\\nMatrix Subtraction Result:\")\n",
    "    display_matrix(difference_result)\n",
    "\n",
    "# Start the program\n",
    "main()\n"
   ]
  },
  {
   "cell_type": "code",
   "execution_count": 25,
   "id": "2e85aa07-9bd1-4a0e-a133-a9f666496b04",
   "metadata": {},
   "outputs": [
    {
     "name": "stdout",
     "output_type": "stream",
     "text": [
      "Greatest Common Divisor (GCD) Calculator\n"
     ]
    },
    {
     "name": "stdin",
     "output_type": "stream",
     "text": [
      "Enter the first number:  10\n",
      "Enter the second number:  5\n"
     ]
    },
    {
     "name": "stdout",
     "output_type": "stream",
     "text": [
      "The GCD of 10 and 5 is: 5\n"
     ]
    }
   ],
   "source": [
    "#Que33\n",
    "def gcd_euclidean(a, b):\n",
    "    while b:\n",
    "        a, b = b, a % b\n",
    "    return a\n",
    "\n",
    "def main():\n",
    "    print(\"Greatest Common Divisor (GCD) Calculator\")\n",
    "    num1 = int(input(\"Enter the first number: \"))\n",
    "    num2 = int(input(\"Enter the second number: \"))\n",
    "\n",
    "    gcd = gcd_euclidean(num1, num2)\n",
    "    print(f\"The GCD of {num1} and {num2} is: {gcd}\")\n",
    "\n",
    "# Start the program\n",
    "main()\n"
   ]
  },
  {
   "cell_type": "code",
   "execution_count": 26,
   "id": "a3414e16-db34-4490-b8ed-9484eb0ae0fa",
   "metadata": {},
   "outputs": [
    {
     "name": "stdout",
     "output_type": "stream",
     "text": [
      "Matrix Multiplication Program\n"
     ]
    },
    {
     "name": "stdin",
     "output_type": "stream",
     "text": [
      "Enter the number of rows for the first matrix:  2\n",
      "Enter the number of columns for the first matrix:  2\n",
      "Enter the number of rows for the second matrix:  2\n",
      "Enter the number of columns for the second matrix:  2\n"
     ]
    },
    {
     "name": "stdout",
     "output_type": "stream",
     "text": [
      "Enter the first matrix:\n",
      "Enter the elements for a 2x2 matrix:\n"
     ]
    },
    {
     "name": "stdin",
     "output_type": "stream",
     "text": [
      "Enter element [1][1]:  1\n",
      "Enter element [1][2]:  2\n",
      "Enter element [2][1]:  3\n",
      "Enter element [2][2]:  4\n"
     ]
    },
    {
     "name": "stdout",
     "output_type": "stream",
     "text": [
      "Enter the second matrix:\n",
      "Enter the elements for a 2x2 matrix:\n"
     ]
    },
    {
     "name": "stdin",
     "output_type": "stream",
     "text": [
      "Enter element [1][1]:  1\n",
      "Enter element [1][2]:  2\n",
      "Enter element [2][1]:  3\n",
      "Enter element [2][2]:  4\n"
     ]
    },
    {
     "name": "stdout",
     "output_type": "stream",
     "text": [
      "\n",
      "First matrix:\n",
      "[1.0, 2.0]\n",
      "[3.0, 4.0]\n",
      "\n",
      "Second matrix:\n",
      "[1.0, 2.0]\n",
      "[3.0, 4.0]\n",
      "\n",
      "Matrix Multiplication Result:\n",
      "[7.0, 10.0]\n",
      "[15.0, 22.0]\n"
     ]
    }
   ],
   "source": [
    "#Que34\n",
    "def matrix_multiplication(matrix1, matrix2):\n",
    "    if len(matrix1[0]) != len(matrix2):\n",
    "        print(\"Matrix multiplication is not possible. Number of columns in the first matrix must be equal to the number of rows in the second matrix.\")\n",
    "        return None\n",
    "\n",
    "    result = []\n",
    "    for i in range(len(matrix1)):\n",
    "        row = []\n",
    "        for j in range(len(matrix2[0])):\n",
    "            product = 0\n",
    "            for k in range(len(matrix2)):\n",
    "                product += matrix1[i][k] * matrix2[k][j]\n",
    "            row.append(product)\n",
    "        result.append(row)\n",
    "    return result\n",
    "\n",
    "def input_matrix(rows, columns):\n",
    "    matrix = []\n",
    "    print(f\"Enter the elements for a {rows}x{columns} matrix:\")\n",
    "    for i in range(rows):\n",
    "        row = []\n",
    "        for j in range(columns):\n",
    "            element = float(input(f\"Enter element [{i+1}][{j+1}]: \"))\n",
    "            row.append(element)\n",
    "        matrix.append(row)\n",
    "    return matrix\n",
    "\n",
    "def display_matrix(matrix):\n",
    "    for row in matrix:\n",
    "        print(row)\n",
    "\n",
    "def main():\n",
    "    print(\"Matrix Multiplication Program\")\n",
    "    rows1 = int(input(\"Enter the number of rows for the first matrix: \"))\n",
    "    columns1 = int(input(\"Enter the number of columns for the first matrix: \"))\n",
    "    rows2 = int(input(\"Enter the number of rows for the second matrix: \"))\n",
    "    columns2 = int(input(\"Enter the number of columns for the second matrix: \"))\n",
    "\n",
    "    if columns1 != rows2:\n",
    "        print(\"Matrix multiplication is not possible.\")\n",
    "        return\n",
    "\n",
    "    print(\"Enter the first matrix:\")\n",
    "    matrix1 = input_matrix(rows1, columns1)\n",
    "\n",
    "    print(\"Enter the second matrix:\")\n",
    "    matrix2 = input_matrix(rows2, columns2)\n",
    "\n",
    "    print(\"\\nFirst matrix:\")\n",
    "    display_matrix(matrix1)\n",
    "\n",
    "    print(\"\\nSecond matrix:\")\n",
    "    display_matrix(matrix2)\n",
    "\n",
    "    product_result = matrix_multiplication(matrix1, matrix2)\n",
    "\n",
    "    if product_result:\n",
    "        print(\"\\nMatrix Multiplication Result:\")\n",
    "        display_matrix(product_result)\n",
    "\n",
    "# Start the program\n",
    "main()\n"
   ]
  },
  {
   "cell_type": "code",
   "execution_count": 28,
   "id": "3bcb1464-77db-4b4c-82a1-78e5ad9e323a",
   "metadata": {},
   "outputs": [
    {
     "name": "stdout",
     "output_type": "stream",
     "text": [
      "Welcome to Tic-Tac-Toe against the computer!\n",
      "  |   |  \n",
      "---------\n",
      "  |   |  \n",
      "---------\n",
      "  |   |  \n",
      "---------\n"
     ]
    },
    {
     "name": "stdin",
     "output_type": "stream",
     "text": [
      "Enter your move (row[1-3] column[1-3]):  1 1\n"
     ]
    },
    {
     "name": "stdout",
     "output_type": "stream",
     "text": [
      "X |   |  \n",
      "---------\n",
      "  |   |  \n",
      "---------\n",
      "  |   |  \n",
      "---------\n",
      "X |   | O\n",
      "---------\n",
      "  |   |  \n",
      "---------\n",
      "  |   |  \n",
      "---------\n"
     ]
    },
    {
     "name": "stdin",
     "output_type": "stream",
     "text": [
      "Enter your move (row[1-3] column[1-3]):  2 2\n"
     ]
    },
    {
     "name": "stdout",
     "output_type": "stream",
     "text": [
      "X |   | O\n",
      "---------\n",
      "  | X |  \n",
      "---------\n",
      "  |   |  \n",
      "---------\n",
      "X |   | O\n",
      "---------\n",
      "  | X |  \n",
      "---------\n",
      "  |   | O\n",
      "---------\n"
     ]
    },
    {
     "name": "stdin",
     "output_type": "stream",
     "text": [
      "Enter your move (row[1-3] column[1-3]):  3 1\n"
     ]
    },
    {
     "name": "stdout",
     "output_type": "stream",
     "text": [
      "X |   | O\n",
      "---------\n",
      "  | X |  \n",
      "---------\n",
      "X |   | O\n",
      "---------\n",
      "X |   | O\n",
      "---------\n",
      "  | X | O\n",
      "---------\n",
      "X |   | O\n",
      "---------\n",
      "Computer wins! Better luck next time.\n"
     ]
    }
   ],
   "source": [
    "#Que35\n",
    "import random\n",
    "\n",
    "def print_board(board):\n",
    "    for row in board:\n",
    "        print(\" | \".join(row))\n",
    "        print(\"-\" * 9)\n",
    "\n",
    "def check_winner(board, player):\n",
    "    # Check rows, columns, and diagonals for a winning combination\n",
    "    for i in range(3):\n",
    "        if all(board[i][j] == player for j in range(3)) or \\\n",
    "           all(board[j][i] == player for j in range(3)):\n",
    "            return True\n",
    "\n",
    "    if all(board[i][i] == player for i in range(3)) or \\\n",
    "       all(board[i][2 - i] == player for i in range(3)):\n",
    "        return True\n",
    "\n",
    "    return False\n",
    "\n",
    "def computer_move(board):\n",
    "    # Check available positions and make a random move\n",
    "    available_moves = [(i, j) for i in range(3) for j in range(3) if board[i][j] == \" \"]\n",
    "    return random.choice(available_moves)\n",
    "\n",
    "def main():\n",
    "    print(\"Welcome to Tic-Tac-Toe against the computer!\")\n",
    "    board = [[\" \" for _ in range(3)] for _ in range(3)]\n",
    "    player_symbol = \"X\"\n",
    "    computer_symbol = \"O\"\n",
    "    current_player = player_symbol\n",
    "\n",
    "    while True:\n",
    "        print_board(board)\n",
    "\n",
    "        if current_player == player_symbol:\n",
    "            row, col = map(int, input(\"Enter your move (row[1-3] column[1-3]): \").split())\n",
    "            row -= 1\n",
    "            col -= 1\n",
    "        else:\n",
    "            row, col = computer_move(board)\n",
    "\n",
    "        if board[row][col] == \" \":\n",
    "            board[row][col] = current_player\n",
    "        else:\n",
    "            print(\"That position is already taken. Try again.\")\n",
    "            continue\n",
    "\n",
    "        if check_winner(board, current_player):\n",
    "            print_board(board)\n",
    "            if current_player == player_symbol:\n",
    "                print(\"Congratulations! You win!\")\n",
    "            else:\n",
    "                print(\"Computer wins! Better luck next time.\")\n",
    "            break\n",
    "\n",
    "        if all(board[i][j] != \" \" for i in range(3) for j in range(3)):\n",
    "            print_board(board)\n",
    "            print(\"It's a tie!\")\n",
    "            break\n",
    "\n",
    "        current_player = computer_symbol if current_player == player_symbol else player_symbol\n",
    "\n",
    "# Start the game\n",
    "main()\n"
   ]
  },
  {
   "cell_type": "code",
   "execution_count": 29,
   "id": "0911c0be-d619-4e94-bde3-86041b99ec78",
   "metadata": {},
   "outputs": [
    {
     "name": "stdin",
     "output_type": "stream",
     "text": [
      "Enter the number of terms for the Fibonacci sequence:  10\n"
     ]
    },
    {
     "name": "stdout",
     "output_type": "stream",
     "text": [
      "The first 10 Fibonacci numbers are:\n",
      "[0, 1, 1, 2, 3, 5, 8, 13, 21, 34]\n"
     ]
    }
   ],
   "source": [
    "#Que36\n",
    "def generate_fibonacci(n):\n",
    "    if n <= 0:\n",
    "        return []\n",
    "\n",
    "    fibonacci_sequence = [0, 1]\n",
    "    while len(fibonacci_sequence) < n:\n",
    "        next_number = fibonacci_sequence[-1] + fibonacci_sequence[-2]\n",
    "        fibonacci_sequence.append(next_number)\n",
    "\n",
    "    return fibonacci_sequence\n",
    "\n",
    "def main():\n",
    "    n = int(input(\"Enter the number of terms for the Fibonacci sequence: \"))\n",
    "    fibonacci_sequence = generate_fibonacci(n)\n",
    "\n",
    "    if fibonacci_sequence:\n",
    "        print(f\"The first {n} Fibonacci numbers are:\")\n",
    "        print(fibonacci_sequence)\n",
    "    else:\n",
    "        print(\"Please enter a positive number to generate Fibonacci sequence.\")\n",
    "\n",
    "# Start the program\n",
    "main()\n"
   ]
  },
  {
   "cell_type": "code",
   "execution_count": 30,
   "id": "85cddb07-d514-4e90-9421-923e5c3a3b89",
   "metadata": {},
   "outputs": [
    {
     "name": "stdin",
     "output_type": "stream",
     "text": [
      "Enter the term (n) of the Fibonacci sequence to calculate:  10\n"
     ]
    },
    {
     "name": "stdout",
     "output_type": "stream",
     "text": [
      "The 10th term of the Fibonacci sequence is: 55\n"
     ]
    }
   ],
   "source": [
    "#Que37\n",
    "def fibonacci_memo(n, memo={}):\n",
    "    if n in memo:\n",
    "        return memo[n]\n",
    "    if n <= 2:\n",
    "        return 1\n",
    "\n",
    "    memo[n] = fibonacci_memo(n - 1, memo) + fibonacci_memo(n - 2, memo)\n",
    "    return memo[n]\n",
    "\n",
    "def main():\n",
    "    n = int(input(\"Enter the term (n) of the Fibonacci sequence to calculate: \"))\n",
    "    if n <= 0:\n",
    "        print(\"Please enter a positive integer.\")\n",
    "    else:\n",
    "        result = fibonacci_memo(n)\n",
    "        print(f\"The {n}th term of the Fibonacci sequence is: {result}\")\n",
    "\n",
    "# Start the program\n",
    "main()\n"
   ]
  },
  {
   "cell_type": "code",
   "execution_count": 31,
   "id": "50dbb044-b6f9-4ff6-a124-7caa90fa1ff7",
   "metadata": {},
   "outputs": [
    {
     "name": "stdin",
     "output_type": "stream",
     "text": [
      "Enter the year:  2004\n",
      "Enter the month (1-12):  7\n"
     ]
    },
    {
     "name": "stdout",
     "output_type": "stream",
     "text": [
      "Calendar for July 2004:\n",
      "Mon Tue Wed Thu Fri Sat Sun\n",
      "                1   2   3   4  \n",
      " 5   6   7   8   9  10  11  \n",
      "12  13  14  15  16  17  18  \n",
      "19  20  21  22  23  24  25  \n",
      "26  27  28  29  30  31       \n"
     ]
    }
   ],
   "source": [
    "#Que38\n",
    "import calendar\n",
    "\n",
    "def generate_calendar(year, month):\n",
    "    cal = calendar.monthcalendar(year, month)\n",
    "    month_name = calendar.month_name[month]\n",
    "\n",
    "    print(f\"Calendar for {month_name} {year}:\")\n",
    "    print(\"Mon Tue Wed Thu Fri Sat Sun\")\n",
    "    for week in cal:\n",
    "        for day in week:\n",
    "            if day == 0:\n",
    "                print(\"    \", end=\" \")\n",
    "            else:\n",
    "                print(f\"{day:2d} \", end=\" \")\n",
    "        print()\n",
    "\n",
    "def main():\n",
    "    year = int(input(\"Enter the year: \"))\n",
    "    month = int(input(\"Enter the month (1-12): \"))\n",
    "\n",
    "    if month < 1 or month > 12:\n",
    "        print(\"Invalid month. Please enter a month between 1 and 12.\")\n",
    "    else:\n",
    "        generate_calendar(year, month)\n",
    "\n",
    "# Start the program\n",
    "main()\n"
   ]
  },
  {
   "cell_type": "code",
   "execution_count": 21,
   "id": "a659e7a0-8802-4d66-923f-d28516a4eb93",
   "metadata": {},
   "outputs": [],
   "source": [
    "#Que39"
   ]
  },
  {
   "cell_type": "code",
   "execution_count": null,
   "id": "f9c3acf7-cb5b-4245-8610-dab8d0804824",
   "metadata": {},
   "outputs": [],
   "source": [
    "#Que40"
   ]
  }
 ],
 "metadata": {
  "kernelspec": {
   "display_name": "Python 3 (ipykernel)",
   "language": "python",
   "name": "python3"
  },
  "language_info": {
   "codemirror_mode": {
    "name": "ipython",
    "version": 3
   },
   "file_extension": ".py",
   "mimetype": "text/x-python",
   "name": "python",
   "nbconvert_exporter": "python",
   "pygments_lexer": "ipython3",
   "version": "3.10.8"
  }
 },
 "nbformat": 4,
 "nbformat_minor": 5
}
